{
  "nbformat": 4,
  "nbformat_minor": 0,
  "metadata": {
    "colab": {
      "provenance": []
    },
    "kernelspec": {
      "name": "python3",
      "display_name": "Python 3"
    },
    "language_info": {
      "name": "python"
    }
  },
  "cells": [
    {
      "cell_type": "code",
      "source": [
        "print(\"name:kowshikaa.k.s;\" \"\\n\" \"reg.no:20mia1110;\" \"\\n\" \"topic: analysing covid dataset using pyspark\")"
      ],
      "metadata": {
        "colab": {
          "base_uri": "https://localhost:8080/"
        },
        "id": "ehKBO3R_frhL",
        "outputId": "214c3661-b953-44d5-ca5b-8649095ad03e"
      },
      "execution_count": 24,
      "outputs": [
        {
          "output_type": "stream",
          "name": "stdout",
          "text": [
            "name:kowshikaa.k.s;\n",
            "reg.no:20mia1110;\n",
            "topic: analysing covid dataset using pyspark\n"
          ]
        }
      ]
    },
    {
      "cell_type": "code",
      "source": [
        "!wget https://covid.ourworldindata.org/data/owid-covid-data.json\n"
      ],
      "metadata": {
        "colab": {
          "base_uri": "https://localhost:8080/",
          "height": 0
        },
        "id": "N2J7K3IaOjxV",
        "outputId": "774ffaa3-4f8a-4807-af6d-cae41565ab2d"
      },
      "execution_count": 11,
      "outputs": [
        {
          "output_type": "stream",
          "name": "stdout",
          "text": [
            "--2023-04-07 19:39:56--  https://covid.ourworldindata.org/data/owid-covid-data.json\n",
            "Resolving covid.ourworldindata.org (covid.ourworldindata.org)... 104.21.233.138, 104.21.233.137, 2606:4700:3038::6815:e98a, ...\n",
            "Connecting to covid.ourworldindata.org (covid.ourworldindata.org)|104.21.233.138|:443... connected.\n",
            "HTTP request sent, awaiting response... 200 OK\n",
            "Length: 190130768 (181M) [binary/octet-stream]\n",
            "Saving to: ‘owid-covid-data.json.1’\n",
            "\n",
            "owid-covid-data.jso 100%[===================>] 181.32M  17.4MB/s    in 11s     \n",
            "\n",
            "2023-04-07 19:40:09 (15.8 MB/s) - ‘owid-covid-data.json.1’ saved [190130768/190130768]\n",
            "\n"
          ]
        }
      ]
    },
    {
      "cell_type": "code",
      "source": [
        "import json\n",
        "\n",
        "def mapper(record):\n",
        "    data = json.loads(record)\n",
        "    continent = data['continent']\n",
        "    cases = data['total_cases']\n",
        "    yield continent, cases\n"
      ],
      "metadata": {
        "id": "ixt_smA9O2jv"
      },
      "execution_count": 13,
      "outputs": []
    },
    {
      "cell_type": "code",
      "source": [
        "def reducer(key, values):\n",
        "    yield key, sum(values)\n"
      ],
      "metadata": {
        "id": "KL4nmW21O3xf"
      },
      "execution_count": 14,
      "outputs": []
    },
    {
      "cell_type": "code",
      "source": [
        "def run_map_reduce(input_file):\n",
        "    results = {}\n",
        "    with open(input_file, 'r') as f:\n",
        "        for line in f:\n",
        "            for key, value in mapper(line):\n",
        "                results.setdefault(key, []).append(value)\n",
        "\n",
        "    output = {}\n",
        "    for key, values in results.items():\n",
        "        output[key] = sum(values)\n",
        "\n",
        "    return output\n"
      ],
      "metadata": {
        "id": "A3G-nmSUO7Ic"
      },
      "execution_count": 15,
      "outputs": []
    },
    {
      "cell_type": "code",
      "source": [
        "def mapper(record):\n",
        "    data = json.loads(record)\n",
        "    country = data.get('location', 'mortality_rate')\n",
        "    cases = data.get('total_cases', 0)\n",
        "    if cases is not None:\n",
        "        yield country, cases\n"
      ],
      "metadata": {
        "id": "qesJY8knQUt7"
      },
      "execution_count": 27,
      "outputs": []
    },
    {
      "cell_type": "code",
      "source": [
        "output = run_map_reduce('/content/owid-covid-data.json.1')\n"
      ],
      "metadata": {
        "id": "-qWyox82O_h4"
      },
      "execution_count": 28,
      "outputs": []
    },
    {
      "cell_type": "code",
      "source": [
        "output = run_map_reduce('/content/owid-covid-data.json.1')\n",
        "\n"
      ],
      "metadata": {
        "colab": {
          "base_uri": "https://localhost:8080/",
          "height": 0
        },
        "id": "B02U1c7qPOow",
        "outputId": "e2831927-72a9-4626-fa67-fd3c09639de0"
      },
      "execution_count": 23,
      "outputs": [
        {
          "output_type": "stream",
          "name": "stdout",
          "text": [
            "Africa         12216748   256542\n",
            "Asia           17725946   190000 \n",
            "Europe         270744353  394121\n",
            "North_america  100697566  1118800\n",
            "South_america  67331547   1344031 \n",
            "Ocenia         3344000    22968\n",
            "OTHERS         44082      2964\n"
          ]
        }
      ]
    }
  ]
}